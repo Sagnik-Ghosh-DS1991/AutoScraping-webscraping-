{
  "nbformat": 4,
  "nbformat_minor": 0,
  "metadata": {
    "colab": {
      "name": "AutoScrapper(webscrapping).ipynb",
      "provenance": [],
      "collapsed_sections": []
    },
    "kernelspec": {
      "name": "python3",
      "display_name": "Python 3"
    },
    "language_info": {
      "name": "python"
    }
  },
  "cells": [
    {
      "cell_type": "markdown",
      "metadata": {
        "id": "pvdpwkyPSlNq"
      },
      "source": [
        "# Autoscraping (Webscrapping)"
      ]
    },
    {
      "cell_type": "markdown",
      "metadata": {
        "id": "olzKPCG0S5kA"
      },
      "source": [
        "### Install the autoscraper library"
      ]
    },
    {
      "cell_type": "code",
      "metadata": {
        "colab": {
          "base_uri": "https://localhost:8080/"
        },
        "id": "oQFAjULTucVj",
        "outputId": "27718cd6-bdcc-4987-ef70-c448e9037852"
      },
      "source": [
        "!pip install autoscraper"
      ],
      "execution_count": null,
      "outputs": [
        {
          "output_type": "stream",
          "text": [
            "Requirement already satisfied: autoscraper in /usr/local/lib/python3.7/dist-packages (1.1.12)\n",
            "Requirement already satisfied: bs4 in /usr/local/lib/python3.7/dist-packages (from autoscraper) (0.0.1)\n",
            "Requirement already satisfied: requests in /usr/local/lib/python3.7/dist-packages (from autoscraper) (2.23.0)\n",
            "Requirement already satisfied: lxml in /usr/local/lib/python3.7/dist-packages (from autoscraper) (4.2.6)\n",
            "Requirement already satisfied: beautifulsoup4 in /usr/local/lib/python3.7/dist-packages (from bs4->autoscraper) (4.6.3)\n",
            "Requirement already satisfied: urllib3!=1.25.0,!=1.25.1,<1.26,>=1.21.1 in /usr/local/lib/python3.7/dist-packages (from requests->autoscraper) (1.24.3)\n",
            "Requirement already satisfied: chardet<4,>=3.0.2 in /usr/local/lib/python3.7/dist-packages (from requests->autoscraper) (3.0.4)\n",
            "Requirement already satisfied: idna<3,>=2.5 in /usr/local/lib/python3.7/dist-packages (from requests->autoscraper) (2.10)\n",
            "Requirement already satisfied: certifi>=2017.4.17 in /usr/local/lib/python3.7/dist-packages (from requests->autoscraper) (2021.5.30)\n"
          ],
          "name": "stdout"
        }
      ]
    },
    {
      "cell_type": "markdown",
      "metadata": {
        "id": "9ed2Z39_S_W_"
      },
      "source": [
        "### Scraping the flipkart url as shown below"
      ]
    },
    {
      "cell_type": "code",
      "metadata": {
        "colab": {
          "base_uri": "https://localhost:8080/"
        },
        "id": "1JF0YKPWumtV",
        "outputId": "87bd3962-09e5-4c96-c0d0-3d35ae1febd7"
      },
      "source": [
        "from autoscraper import AutoScraper\n",
        "url= 'https://www.flipkart.com/search?q=mbil&otracker=search&otracker1=search&marketplace=FLIPKART&as-show=on&as=off'\n",
        "wanted=['REDMI 9i (Midnight Black, 64 GB)','₹8,299']\n",
        "scraper=AutoScraper()\n",
        "result=scraper.build(url,wanted)\n",
        "#for i in result:\n",
        "  #print(i)\n",
        "result"
      ],
      "execution_count": null,
      "outputs": [
        {
          "output_type": "execute_result",
          "data": {
            "text/plain": [
              "['REDMI 9i (Midnight Black, 64 GB)',\n",
              " 'Infinix Hot 10 (Amber Red, 64 GB)',\n",
              " 'Infinix Hot 10 (Ocean Wave, 64 GB)',\n",
              " 'realme C20 (Cool Blue, 32 GB)',\n",
              " 'Infinix Hot 10 (Moonlight Jade, 64 GB)',\n",
              " 'realme C20 (Cool Grey, 32 GB)',\n",
              " 'Infinix Hot 10 (Obsidian Black, 64 GB)',\n",
              " 'realme C21 (Cross Black, 32 GB)',\n",
              " 'realme C21 (Cross Blue, 64 GB)',\n",
              " 'realme C21 (Cross Blue, 32 GB)',\n",
              " 'realme C21 (Cross Black, 64 GB)',\n",
              " 'Infinix Smart 5 (Obsidian Black, 32 GB)',\n",
              " 'Infinix Smart 5 (Aegean Blue, 32 GB)',\n",
              " 'Infinix Smart 5 (7° Purple, 32 GB)',\n",
              " 'Infinix Smart 5 (Morandi Green, 32 GB)',\n",
              " 'realme Narzo 30A (Laser Black, 64 GB)',\n",
              " 'realme Narzo 30A (Laser Blue, 32 GB)',\n",
              " 'realme Narzo 30A (Laser Black, 32 GB)',\n",
              " 'realme Narzo 30A (Laser Blue, 64 GB)',\n",
              " 'Infinix Hot 10 Play (7° Purple, 64 GB)',\n",
              " 'POCO M3 (Power Black, 64 GB)',\n",
              " 'GIONEE Max (Royal Blue, 32 GB)',\n",
              " 'GIONEE Max (Red, 32 GB)',\n",
              " 'POCO M3 (Cool Blue, 64 GB)',\n",
              " '₹8,299',\n",
              " '₹8,999',\n",
              " '₹6,799',\n",
              " '₹7,999',\n",
              " '₹7,199',\n",
              " '₹9,999',\n",
              " '₹8,499',\n",
              " '₹10,999',\n",
              " '₹5,499']"
            ]
          },
          "metadata": {
            "tags": []
          },
          "execution_count": 121
        }
      ]
    },
    {
      "cell_type": "markdown",
      "metadata": {
        "id": "TGwQOGimTPzz"
      },
      "source": [
        "### Grouping the rules as shown below"
      ]
    },
    {
      "cell_type": "code",
      "metadata": {
        "id": "duqIoXPTvt6Z"
      },
      "source": [
        "dict_result=scraper.get_result_similar(url,grouped=True)"
      ],
      "execution_count": null,
      "outputs": []
    },
    {
      "cell_type": "code",
      "metadata": {
        "colab": {
          "base_uri": "https://localhost:8080/"
        },
        "id": "BXEstPRW8WGB",
        "outputId": "727b8237-abd0-468c-a932-77137c8fd29a"
      },
      "source": [
        "rule_dict={}\n",
        "for i,rule in enumerate(dict_result):\n",
        "  rule_dict[rule]='Mobile_Vale'+str(i)\n",
        "\n",
        "rule_dict\n"
      ],
      "execution_count": null,
      "outputs": [
        {
          "output_type": "execute_result",
          "data": {
            "text/plain": [
              "{'rule_1uri': 'Mobile_Vale2',\n",
              " 'rule_3zq2': 'Mobile_Vale0',\n",
              " 'rule_x8on': 'Mobile_Vale1'}"
            ]
          },
          "metadata": {
            "tags": []
          },
          "execution_count": 123
        }
      ]
    },
    {
      "cell_type": "code",
      "metadata": {
        "colab": {
          "base_uri": "https://localhost:8080/"
        },
        "id": "jbEbDNtf_S3y",
        "outputId": "c2dcf449-4681-4c21-c2cd-56835cb7d3a8"
      },
      "source": [
        "list(rule_dict.values())[-1:0:-1]"
      ],
      "execution_count": null,
      "outputs": [
        {
          "output_type": "execute_result",
          "data": {
            "text/plain": [
              "['Mobile_Vale2', 'Mobile_Vale1']"
            ]
          },
          "metadata": {
            "tags": []
          },
          "execution_count": 124
        }
      ]
    },
    {
      "cell_type": "markdown",
      "metadata": {
        "id": "Xs3b2rLATVUR"
      },
      "source": [
        "### Saving the scraping format and rule , so to use to scrap similar url for similar product"
      ]
    },
    {
      "cell_type": "code",
      "metadata": {
        "id": "EaAW-SkGzawf"
      },
      "source": [
        "scraper.set_rule_aliases(rule_dict)\n",
        "scraper.keep_rules(list(rule_dict.keys())[-1:0:-1])\n",
        "scraper.save('flipkart_mobile_search')"
      ],
      "execution_count": null,
      "outputs": []
    },
    {
      "cell_type": "markdown",
      "metadata": {
        "id": "WTg97QlGTg1Y"
      },
      "source": [
        "### Loading scaper file"
      ]
    },
    {
      "cell_type": "code",
      "metadata": {
        "id": "CQDVQTLf62GY"
      },
      "source": [
        "scraper.load('flipkart_mobile_search')"
      ],
      "execution_count": null,
      "outputs": []
    },
    {
      "cell_type": "markdown",
      "metadata": {
        "id": "c_SF7fVmTqpW"
      },
      "source": [
        "### Scraping the siilar url for different product"
      ]
    },
    {
      "cell_type": "code",
      "metadata": {
        "id": "wqmmA_5566F3"
      },
      "source": [
        "result_new=scraper.get_result_similar('https://www.flipkart.com/search?q=apple+mobiles&sid=tyy%2C4io&as=on&as-show=on&otracker=AS_QueryStore_OrganicAutoSuggest_1_5_na_na_na&otracker1=AS_QueryStore_OrganicAutoSuggest_1_5_na_na_na&as-pos=1&as-type=RECENT&suggestionId=apple+mobiles%7CMobiles&requestId=5df0bca0-9a2f-41ce-b858-4588a34ce90d&as-backfill=on',group_by_alias=True)"
      ],
      "execution_count": null,
      "outputs": []
    },
    {
      "cell_type": "code",
      "metadata": {
        "colab": {
          "base_uri": "https://localhost:8080/"
        },
        "id": "HnuN0JnK7RFk",
        "outputId": "5c71f897-09e5-44cd-c21f-5860b6e38742"
      },
      "source": [
        "result_new"
      ],
      "execution_count": null,
      "outputs": [
        {
          "output_type": "execute_result",
          "data": {
            "text/plain": [
              "{'Mobile_Vale1': ['APPLE iPhone 11 (Black, 64 GB)',\n",
              "  'Apple iPhone XR (White, 128 GB) (Includes EarPods, Power Adapter)',\n",
              "  'Apple iPhone XR (Black, 128 GB) (Includes EarPods, Power Adapter)',\n",
              "  'APPLE iPhone SE (White, 128 GB)',\n",
              "  'APPLE iPhone 11 (Red, 64 GB)',\n",
              "  'APPLE iPhone SE (Black, 64 GB)',\n",
              "  'APPLE iPhone SE (Black, 128 GB)',\n",
              "  'APPLE iPhone SE (Red, 128 GB)',\n",
              "  'APPLE iPhone SE (White, 64 GB)',\n",
              "  'Apple iPhone XR (White, 64 GB) (Includes EarPods, Power Adapter)',\n",
              "  'Apple iPhone XR ((PRODUCT)RED, 64 GB) (Includes EarPods, Power Adapter)',\n",
              "  'APPLE iPhone XR (Black, 64 GB)',\n",
              "  'APPLE iPhone SE (Red, 64 GB)',\n",
              "  'Apple iPhone XR ((PRODUCT)RED, 128 GB) (Includes EarPods, Power Adapter)',\n",
              "  'APPLE iPhone 7 Plus (Black, 32 GB)',\n",
              "  'Apple iPhone XR (Blue, 64 GB) (Includes EarPods, Power Adapter)',\n",
              "  'APPLE iPhone 12 (Black, 128 GB)',\n",
              "  'APPLE iPhone 12 (Blue, 128 GB)',\n",
              "  'APPLE iPhone 12 (Blue, 64 GB)',\n",
              "  'APPLE iPhone 11 Pro (Midnight Green, 64 GB)',\n",
              "  'APPLE iPhone 12 (White, 128 GB)',\n",
              "  'APPLE iPhone 12 Mini (White, 128 GB)',\n",
              "  'APPLE iPhone 12 Pro (Pacific Blue, 256 GB)',\n",
              "  'Apple iPhone SE (White, 256 GB) (Includes EarPods, Power Adapter)'],\n",
              " 'Mobile_Vale2': ['₹49,999',\n",
              "  '₹46,999',\n",
              "  '₹46,999',\n",
              "  '₹37,999',\n",
              "  '₹49,999',\n",
              "  '₹32,999',\n",
              "  '₹37,999',\n",
              "  '₹37,999',\n",
              "  '₹32,999',\n",
              "  '₹41,999',\n",
              "  '₹41,999',\n",
              "  '₹41,999',\n",
              "  '₹32,999',\n",
              "  '₹46,999',\n",
              "  '₹36,999',\n",
              "  '₹41,999',\n",
              "  '₹82,900',\n",
              "  '₹82,900',\n",
              "  '₹77,900',\n",
              "  '₹79,999',\n",
              "  '₹82,900',\n",
              "  '₹72,900',\n",
              "  '₹1,25,900',\n",
              "  '₹47,999']}"
            ]
          },
          "metadata": {
            "tags": []
          },
          "execution_count": 128
        }
      ]
    },
    {
      "cell_type": "markdown",
      "metadata": {
        "id": "6pwhE946TxhQ"
      },
      "source": [
        "### Diaplaying one rule below after scraping"
      ]
    },
    {
      "cell_type": "code",
      "metadata": {
        "colab": {
          "base_uri": "https://localhost:8080/"
        },
        "id": "BxQWLxOb76yG",
        "outputId": "5cabf563-a454-47e9-82de-0c9a7bee59cd"
      },
      "source": [
        "result_new['Mobile_Vale1']"
      ],
      "execution_count": null,
      "outputs": [
        {
          "output_type": "execute_result",
          "data": {
            "text/plain": [
              "['APPLE iPhone 11 (Black, 64 GB)',\n",
              " 'Apple iPhone XR (White, 128 GB) (Includes EarPods, Power Adapter)',\n",
              " 'Apple iPhone XR (Black, 128 GB) (Includes EarPods, Power Adapter)',\n",
              " 'APPLE iPhone SE (White, 128 GB)',\n",
              " 'APPLE iPhone 11 (Red, 64 GB)',\n",
              " 'APPLE iPhone SE (Black, 64 GB)',\n",
              " 'APPLE iPhone SE (Black, 128 GB)',\n",
              " 'APPLE iPhone SE (Red, 128 GB)',\n",
              " 'APPLE iPhone SE (White, 64 GB)',\n",
              " 'Apple iPhone XR (White, 64 GB) (Includes EarPods, Power Adapter)',\n",
              " 'Apple iPhone XR ((PRODUCT)RED, 64 GB) (Includes EarPods, Power Adapter)',\n",
              " 'APPLE iPhone XR (Black, 64 GB)',\n",
              " 'APPLE iPhone SE (Red, 64 GB)',\n",
              " 'Apple iPhone XR ((PRODUCT)RED, 128 GB) (Includes EarPods, Power Adapter)',\n",
              " 'APPLE iPhone 7 Plus (Black, 32 GB)',\n",
              " 'Apple iPhone XR (Blue, 64 GB) (Includes EarPods, Power Adapter)',\n",
              " 'APPLE iPhone 12 (Black, 128 GB)',\n",
              " 'APPLE iPhone 12 (Blue, 128 GB)',\n",
              " 'APPLE iPhone 12 (Blue, 64 GB)',\n",
              " 'APPLE iPhone 11 Pro (Midnight Green, 64 GB)',\n",
              " 'APPLE iPhone 12 (White, 128 GB)',\n",
              " 'APPLE iPhone 12 Mini (White, 128 GB)',\n",
              " 'APPLE iPhone 12 Pro (Pacific Blue, 256 GB)',\n",
              " 'Apple iPhone SE (White, 256 GB) (Includes EarPods, Power Adapter)']"
            ]
          },
          "metadata": {
            "tags": []
          },
          "execution_count": 129
        }
      ]
    },
    {
      "cell_type": "code",
      "metadata": {
        "id": "4dhr-Ifg7-cw"
      },
      "source": [
        ""
      ],
      "execution_count": null,
      "outputs": []
    }
  ]
}